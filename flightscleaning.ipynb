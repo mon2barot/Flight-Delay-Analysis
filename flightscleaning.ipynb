{
 "cells": [
  {
   "cell_type": "code",
   "execution_count": 1,
   "metadata": {},
   "outputs": [],
   "source": [
    "import numpy as np\n",
    "import matplotlib.pyplot as plt \n",
    "import seaborn as sns\n",
    "import datetime\n",
    "import time\n",
    "from time import strftime, gmtime"
   ]
  },
  {
   "cell_type": "code",
   "execution_count": 2,
   "metadata": {},
   "outputs": [],
   "source": [
    "%matplotlib inline\n",
    "import statsmodels.api as sm\n",
    "import matplotlib\n",
    "from sklearn.feature_selection import RFE"
   ]
  },
  {
   "cell_type": "code",
   "execution_count": 3,
   "metadata": {},
   "outputs": [],
   "source": [
    "import pandas as pd\n",
    "df_flights = pd.read_csv(\"C:/Users/b_min/Desktop/Capstone/FlightDataClean.csv\")"
   ]
  },
  {
   "cell_type": "code",
   "execution_count": 4,
   "metadata": {},
   "outputs": [],
   "source": [
    "#df_flights.head()"
   ]
  },
  {
   "cell_type": "code",
   "execution_count": 5,
   "metadata": {},
   "outputs": [
    {
     "name": "stdout",
     "output_type": "stream",
     "text": [
      "<class 'pandas.core.frame.DataFrame'>\n",
      "RangeIndex: 5819079 entries, 0 to 5819078\n",
      "Data columns (total 31 columns):\n",
      "Date                    object\n",
      "DAY_OF_WEEK             int64\n",
      "AIRLINE                 object\n",
      "FLIGHT_NUMBER           int64\n",
      "TAIL_NUMBER             object\n",
      "ORIGIN_AIRPORT          object\n",
      "DESTINATION_AIRPORT     object\n",
      "SCHEDULED_DEPARTURE     int64\n",
      "DEPARTURE_TIME          float64\n",
      "DEPARTURE_DELAY         float64\n",
      "TAXI_OUT                float64\n",
      "WHEELS_OFF              float64\n",
      "SCHEDULED_TIME          float64\n",
      "ELAPSED_TIME            float64\n",
      "AIR_TIME                float64\n",
      "DISTANCE                int64\n",
      "WHEELS_ON               float64\n",
      "TAXI_IN                 float64\n",
      "SCHEDULED_ARRIVAL       int64\n",
      "ARRIVAL_TIME            float64\n",
      "ARRIVAL_DELAY           float64\n",
      "DIVERTED                int64\n",
      "CANCELLED               int64\n",
      "CANCELLATION_REASON     object\n",
      "AIR_SYSTEM_DELAY        float64\n",
      "SECURITY_DELAY          float64\n",
      "AIRLINE_DELAY           float64\n",
      "LATE_AIRCRAFT_DELAY     float64\n",
      "WEATHER_DELAY           float64\n",
      "Delayed or Cancelled    int64\n",
      "Delayed or Late         float64\n",
      "dtypes: float64(17), int64(8), object(6)\n",
      "memory usage: 1.3+ GB\n"
     ]
    }
   ],
   "source": [
    "df_flights.info()"
   ]
  },
  {
   "cell_type": "markdown",
   "metadata": {},
   "source": [
    "DEPARTURE_DELAY (float) = SCHEDULED_DEPARTURE - DEPARTURE_TIME(both are of type object)--Technically we don't need these 2 cols \n",
    "ARRIVAL_DELAY (float) = SCHEDULED_ARRIVAL - ARRIVAL_TIME(both are of type object)--Technically we don't need these 2 cols\n",
    "\n",
    "WHEELS_ON and WHEELS_OFF are of type object too but they cannot be calculated, therefore they should be converted to int/float.\n",
    "I converted the time format into minutes(using formula cell*1440) so that it can be converted to integer. I did this in Excel. \n",
    "\n",
    "Because of the formula i could not delete the wheels_on and wheels_off column of object data type. So I opened a new notebook and dropped it in Python. Now we have the correct format of data types. so I saved the dataset. and applied XGBOOST in a new notebook. "
   ]
  },
  {
   "cell_type": "markdown",
   "metadata": {},
   "source": [
    "Converting time into the correct format."
   ]
  },
  {
   "cell_type": "code",
   "execution_count": 6,
   "metadata": {},
   "outputs": [],
   "source": [
    "# converting input time value to datetime.\n",
    "def conv_time(time_val):\n",
    "    if pd.isnull(time_val):\n",
    "        return np.nan\n",
    "    else:\n",
    "            # replace 24:00 o'clock with 00:00 o'clock:\n",
    "        if time_val == 2400: time_val = 0\n",
    "            # creating a 4 digit value out of input value:\n",
    "        time_val = \"{0:04d}\".format(int(time_val))\n",
    "            # creating a time datatype out of input value: \n",
    "        time_formatted = datetime.time(int(time_val[0:2]), int(time_val[2:4]))\n",
    "    return time_formatted"
   ]
  },
  {
   "cell_type": "code",
   "execution_count": 7,
   "metadata": {},
   "outputs": [],
   "source": [
    "df_flights['ARRIVAL_TIME'] = df_flights['ARRIVAL_TIME'].apply(conv_time)\n",
    "df_flights['DEPARTURE_TIME'] = df_flights['DEPARTURE_TIME'].apply(conv_time)\n",
    "df_flights['SCHEDULED_DEPARTURE'] = df_flights['SCHEDULED_DEPARTURE'].apply(conv_time)\n",
    "df_flights['WHEELS_OFF'] = df_flights['WHEELS_OFF'].apply(conv_time)\n",
    "df_flights['WHEELS_ON'] = df_flights['WHEELS_ON'].apply(conv_time)\n",
    "df_flights['SCHEDULED_ARRIVAL'] = df_flights['SCHEDULED_ARRIVAL'].apply(conv_time)"
   ]
  },
  {
   "cell_type": "code",
   "execution_count": 8,
   "metadata": {},
   "outputs": [],
   "source": [
    "df_flights['WHEELS_ON'] = df_flights['WHEELS_ON'].astype(str)\n",
    "df_flights['WHEELS_OFF'] = df_flights['WHEELS_OFF'].astype(str)"
   ]
  },
  {
   "cell_type": "code",
   "execution_count": 9,
   "metadata": {},
   "outputs": [],
   "source": [
    "def time_to_minutes(time_str):  \n",
    "    try:  \n",
    "        hours, minutes, seconds = time_str.split(':')  \n",
    "    except ValueError:  \n",
    "        return -1  \n",
    "    return int(hours)*60 + int(minutes) + int(seconds)/60.0  "
   ]
  },
  {
   "cell_type": "code",
   "execution_count": 10,
   "metadata": {},
   "outputs": [],
   "source": [
    "df_flights['WHEELS_OFF'] = df_flights['WHEELS_OFF'].apply(time_to_minutes)"
   ]
  },
  {
   "cell_type": "code",
   "execution_count": 11,
   "metadata": {},
   "outputs": [],
   "source": [
    "df_flights['WHEELS_ON'] = df_flights['WHEELS_ON'].apply(time_to_minutes)"
   ]
  },
  {
   "cell_type": "code",
   "execution_count": 12,
   "metadata": {},
   "outputs": [
    {
     "data": {
      "text/html": [
       "<div>\n",
       "<style scoped>\n",
       "    .dataframe tbody tr th:only-of-type {\n",
       "        vertical-align: middle;\n",
       "    }\n",
       "\n",
       "    .dataframe tbody tr th {\n",
       "        vertical-align: top;\n",
       "    }\n",
       "\n",
       "    .dataframe thead th {\n",
       "        text-align: right;\n",
       "    }\n",
       "</style>\n",
       "<table border=\"1\" class=\"dataframe\">\n",
       "  <thead>\n",
       "    <tr style=\"text-align: right;\">\n",
       "      <th></th>\n",
       "      <th>WHEELS_OFF</th>\n",
       "      <th>WHEELS_ON</th>\n",
       "    </tr>\n",
       "  </thead>\n",
       "  <tbody>\n",
       "    <tr>\n",
       "      <td>0</td>\n",
       "      <td>15.0</td>\n",
       "      <td>244.0</td>\n",
       "    </tr>\n",
       "    <tr>\n",
       "      <td>1</td>\n",
       "      <td>14.0</td>\n",
       "      <td>457.0</td>\n",
       "    </tr>\n",
       "    <tr>\n",
       "      <td>2</td>\n",
       "      <td>34.0</td>\n",
       "      <td>480.0</td>\n",
       "    </tr>\n",
       "    <tr>\n",
       "      <td>3</td>\n",
       "      <td>30.0</td>\n",
       "      <td>468.0</td>\n",
       "    </tr>\n",
       "    <tr>\n",
       "      <td>4</td>\n",
       "      <td>35.0</td>\n",
       "      <td>174.0</td>\n",
       "    </tr>\n",
       "    <tr>\n",
       "      <td>...</td>\n",
       "      <td>...</td>\n",
       "      <td>...</td>\n",
       "    </tr>\n",
       "    <tr>\n",
       "      <td>5819074</td>\n",
       "      <td>17.0</td>\n",
       "      <td>469.0</td>\n",
       "    </tr>\n",
       "    <tr>\n",
       "      <td>5819075</td>\n",
       "      <td>12.0</td>\n",
       "      <td>267.0</td>\n",
       "    </tr>\n",
       "    <tr>\n",
       "      <td>5819076</td>\n",
       "      <td>7.0</td>\n",
       "      <td>264.0</td>\n",
       "    </tr>\n",
       "    <tr>\n",
       "      <td>5819077</td>\n",
       "      <td>3.0</td>\n",
       "      <td>207.0</td>\n",
       "    </tr>\n",
       "    <tr>\n",
       "      <td>5819078</td>\n",
       "      <td>28.0</td>\n",
       "      <td>277.0</td>\n",
       "    </tr>\n",
       "  </tbody>\n",
       "</table>\n",
       "<p>5819079 rows × 2 columns</p>\n",
       "</div>"
      ],
      "text/plain": [
       "         WHEELS_OFF  WHEELS_ON\n",
       "0              15.0      244.0\n",
       "1              14.0      457.0\n",
       "2              34.0      480.0\n",
       "3              30.0      468.0\n",
       "4              35.0      174.0\n",
       "...             ...        ...\n",
       "5819074        17.0      469.0\n",
       "5819075        12.0      267.0\n",
       "5819076         7.0      264.0\n",
       "5819077         3.0      207.0\n",
       "5819078        28.0      277.0\n",
       "\n",
       "[5819079 rows x 2 columns]"
      ]
     },
     "execution_count": 12,
     "metadata": {},
     "output_type": "execute_result"
    }
   ],
   "source": [
    "df_flights[['WHEELS_OFF','WHEELS_ON']]"
   ]
  },
  {
   "cell_type": "code",
   "execution_count": 13,
   "metadata": {},
   "outputs": [
    {
     "data": {
      "text/html": [
       "<div>\n",
       "<style scoped>\n",
       "    .dataframe tbody tr th:only-of-type {\n",
       "        vertical-align: middle;\n",
       "    }\n",
       "\n",
       "    .dataframe tbody tr th {\n",
       "        vertical-align: top;\n",
       "    }\n",
       "\n",
       "    .dataframe thead th {\n",
       "        text-align: right;\n",
       "    }\n",
       "</style>\n",
       "<table border=\"1\" class=\"dataframe\">\n",
       "  <thead>\n",
       "    <tr style=\"text-align: right;\">\n",
       "      <th></th>\n",
       "      <th>Date</th>\n",
       "      <th>DAY_OF_WEEK</th>\n",
       "      <th>AIRLINE</th>\n",
       "      <th>FLIGHT_NUMBER</th>\n",
       "      <th>TAIL_NUMBER</th>\n",
       "      <th>ORIGIN_AIRPORT</th>\n",
       "      <th>DESTINATION_AIRPORT</th>\n",
       "      <th>SCHEDULED_DEPARTURE</th>\n",
       "      <th>DEPARTURE_TIME</th>\n",
       "      <th>DEPARTURE_DELAY</th>\n",
       "      <th>...</th>\n",
       "      <th>DIVERTED</th>\n",
       "      <th>CANCELLED</th>\n",
       "      <th>CANCELLATION_REASON</th>\n",
       "      <th>AIR_SYSTEM_DELAY</th>\n",
       "      <th>SECURITY_DELAY</th>\n",
       "      <th>AIRLINE_DELAY</th>\n",
       "      <th>LATE_AIRCRAFT_DELAY</th>\n",
       "      <th>WEATHER_DELAY</th>\n",
       "      <th>Delayed or Cancelled</th>\n",
       "      <th>Delayed or Late</th>\n",
       "    </tr>\n",
       "  </thead>\n",
       "  <tbody>\n",
       "    <tr>\n",
       "      <td>0</td>\n",
       "      <td>2015-01-01</td>\n",
       "      <td>4</td>\n",
       "      <td>AS</td>\n",
       "      <td>98</td>\n",
       "      <td>N407AS</td>\n",
       "      <td>ANC</td>\n",
       "      <td>SEA</td>\n",
       "      <td>00:05:00</td>\n",
       "      <td>23:54:00</td>\n",
       "      <td>-11.0</td>\n",
       "      <td>...</td>\n",
       "      <td>0</td>\n",
       "      <td>0</td>\n",
       "      <td>NaN</td>\n",
       "      <td>NaN</td>\n",
       "      <td>NaN</td>\n",
       "      <td>NaN</td>\n",
       "      <td>NaN</td>\n",
       "      <td>NaN</td>\n",
       "      <td>0</td>\n",
       "      <td>-22.0</td>\n",
       "    </tr>\n",
       "  </tbody>\n",
       "</table>\n",
       "<p>1 rows × 31 columns</p>\n",
       "</div>"
      ],
      "text/plain": [
       "         Date  DAY_OF_WEEK AIRLINE  FLIGHT_NUMBER TAIL_NUMBER ORIGIN_AIRPORT  \\\n",
       "0  2015-01-01            4      AS             98      N407AS            ANC   \n",
       "\n",
       "  DESTINATION_AIRPORT SCHEDULED_DEPARTURE DEPARTURE_TIME  DEPARTURE_DELAY  \\\n",
       "0                 SEA            00:05:00       23:54:00            -11.0   \n",
       "\n",
       "   ...  DIVERTED  CANCELLED  CANCELLATION_REASON  AIR_SYSTEM_DELAY  \\\n",
       "0  ...         0          0                  NaN               NaN   \n",
       "\n",
       "   SECURITY_DELAY  AIRLINE_DELAY  LATE_AIRCRAFT_DELAY  WEATHER_DELAY  \\\n",
       "0             NaN            NaN                  NaN            NaN   \n",
       "\n",
       "  Delayed or Cancelled Delayed or Late  \n",
       "0                    0           -22.0  \n",
       "\n",
       "[1 rows x 31 columns]"
      ]
     },
     "execution_count": 13,
     "metadata": {},
     "output_type": "execute_result"
    }
   ],
   "source": [
    "df_flights.head(1)"
   ]
  },
  {
   "cell_type": "code",
   "execution_count": 14,
   "metadata": {},
   "outputs": [
    {
     "data": {
      "text/plain": [
       "Date                          0\n",
       "DAY_OF_WEEK                   0\n",
       "AIRLINE                       0\n",
       "FLIGHT_NUMBER                 0\n",
       "TAIL_NUMBER               14721\n",
       "ORIGIN_AIRPORT                0\n",
       "DESTINATION_AIRPORT           0\n",
       "SCHEDULED_DEPARTURE           0\n",
       "DEPARTURE_TIME            86153\n",
       "DEPARTURE_DELAY           86153\n",
       "TAXI_OUT                  89047\n",
       "WHEELS_OFF                    0\n",
       "SCHEDULED_TIME                6\n",
       "ELAPSED_TIME             105071\n",
       "AIR_TIME                 105071\n",
       "DISTANCE                      0\n",
       "WHEELS_ON                     0\n",
       "TAXI_IN                   92513\n",
       "SCHEDULED_ARRIVAL             0\n",
       "ARRIVAL_TIME              92513\n",
       "ARRIVAL_DELAY            105071\n",
       "DIVERTED                      0\n",
       "CANCELLED                     0\n",
       "CANCELLATION_REASON     5729195\n",
       "AIR_SYSTEM_DELAY        4755640\n",
       "SECURITY_DELAY          4755640\n",
       "AIRLINE_DELAY           4755640\n",
       "LATE_AIRCRAFT_DELAY     4755640\n",
       "WEATHER_DELAY           4755640\n",
       "Delayed or Cancelled          0\n",
       "Delayed or Late          105071\n",
       "dtype: int64"
      ]
     },
     "execution_count": 14,
     "metadata": {},
     "output_type": "execute_result"
    }
   ],
   "source": [
    "df_flights.isnull().sum()"
   ]
  },
  {
   "cell_type": "markdown",
   "metadata": {},
   "source": [
    "CANCELLATION_REASON, AIR_SYSTEM_DELAY, SECURITY_DELAY, AIRLINE_DELAY, LATE_AIRCRAFT_DELAY, WEATHER_DELAY\n",
    "are the columns with maximum number of missing values. However, the missing values are present not because of the bad quality of data but due to the fact that these instances never occurred. Hence we can simply subsitute 0 in the empty cells."
   ]
  },
  {
   "cell_type": "code",
   "execution_count": 15,
   "metadata": {},
   "outputs": [],
   "source": [
    "df_flights['AIRLINE_DELAY'] = df_flights['AIRLINE_DELAY'].fillna(0)\n",
    "df_flights['AIR_SYSTEM_DELAY'] = df_flights['AIR_SYSTEM_DELAY'].fillna(0)\n",
    "df_flights['SECURITY_DELAY'] = df_flights['SECURITY_DELAY'].fillna(0)\n",
    "df_flights['LATE_AIRCRAFT_DELAY'] = df_flights['LATE_AIRCRAFT_DELAY'].fillna(0)\n",
    "df_flights['WEATHER_DELAY'] = df_flights['WEATHER_DELAY'].fillna(0)"
   ]
  },
  {
   "cell_type": "markdown",
   "metadata": {},
   "source": [
    "CANCELLATION_REASON is a categorical variables wherein<br>\n",
    "A - Airline/Carrier<br>\n",
    "B - Weather<br>\n",
    "C - National Air System<br>\n",
    "D - Security<br>"
   ]
  },
  {
   "cell_type": "code",
   "execution_count": 16,
   "metadata": {},
   "outputs": [
    {
     "data": {
      "text/plain": [
       "B    48851\n",
       "A    25262\n",
       "C    15749\n",
       "D       22\n",
       "Name: CANCELLATION_REASON, dtype: int64"
      ]
     },
     "execution_count": 16,
     "metadata": {},
     "output_type": "execute_result"
    }
   ],
   "source": [
    "df_flights['CANCELLATION_REASON'].value_counts()"
   ]
  },
  {
   "cell_type": "markdown",
   "metadata": {},
   "source": [
    "B - Weather is the main reason for cancellation."
   ]
  },
  {
   "cell_type": "code",
   "execution_count": 17,
   "metadata": {},
   "outputs": [],
   "source": [
    "# converting categoric value to numeric\n",
    "df_flights.loc[df_flights['CANCELLATION_REASON'] == 'A', 'CANCELLATION_REASON'] = 1\n",
    "df_flights.loc[df_flights['CANCELLATION_REASON'] == 'B', 'CANCELLATION_REASON'] = 2\n",
    "df_flights.loc[df_flights['CANCELLATION_REASON'] == 'C', 'CANCELLATION_REASON'] = 3\n",
    "df_flights.loc[df_flights['CANCELLATION_REASON'] == 'D', 'CANCELLATION_REASON'] = 4\n",
    "\n",
    "# -----------------------------------\n",
    "# converting NaN data to numeric zero\n",
    "df_flights['CANCELLATION_REASON'] = df_flights['CANCELLATION_REASON'].fillna(0)"
   ]
  },
  {
   "cell_type": "markdown",
   "metadata": {},
   "source": [
    "Many of the variables still have missing values. However these values can be calculated from other columns. For example, arrival delay can be calculated by subtracting arrival time from scheduled arrival. However, the columns that help perform the calculation itself have missing values. Hence, the dependent column, which is arrival_delay in this case, cannot be calucated. A similar approach can used for other columns. Therefore these variables with missing values are considered as outliers and dropped."
   ]
  },
  {
   "cell_type": "code",
   "execution_count": 18,
   "metadata": {},
   "outputs": [],
   "source": [
    "df_flights = df_flights.dropna(axis=0)"
   ]
  },
  {
   "cell_type": "code",
   "execution_count": 19,
   "metadata": {},
   "outputs": [],
   "source": [
    "#df_flights.to_csv(r'C:/Users/b_min/Desktop/Capstone/finallycleansedflights.csv')"
   ]
  }
 ],
 "metadata": {
  "kernelspec": {
   "display_name": "Python 3",
   "language": "python",
   "name": "python3"
  },
  "language_info": {
   "codemirror_mode": {
    "name": "ipython",
    "version": 3
   },
   "file_extension": ".py",
   "mimetype": "text/x-python",
   "name": "python",
   "nbconvert_exporter": "python",
   "pygments_lexer": "ipython3",
   "version": "3.7.4"
  }
 },
 "nbformat": 4,
 "nbformat_minor": 2
}
